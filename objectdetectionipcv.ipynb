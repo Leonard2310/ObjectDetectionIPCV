{
 "cells": [
  {
   "cell_type": "code",
   "execution_count": 1,
   "id": "4c5fb656",
   "metadata": {
    "execution": {
     "iopub.execute_input": "2024-11-15T08:12:02.509242Z",
     "iopub.status.busy": "2024-11-15T08:12:02.508561Z",
     "iopub.status.idle": "2024-11-15T08:12:08.639254Z",
     "shell.execute_reply": "2024-11-15T08:12:08.637788Z"
    },
    "papermill": {
     "duration": 6.138317,
     "end_time": "2024-11-15T08:12:08.642444",
     "exception": false,
     "start_time": "2024-11-15T08:12:02.504127",
     "status": "completed"
    },
    "tags": []
   },
   "outputs": [],
   "source": [
    "import os\n",
    "import numpy as np\n",
    "import random\n",
    "\n",
    "import torch\n",
    "import torch.nn as nn\n",
    "import torch.nn.functional as F\n",
    "\n",
    "import matplotlib.pyplot as plt\n",
    "import imageio.v3 as imageio\n",
    "\n",
    "import torchvision\n",
    "from torchvision import transforms as T\n",
    "from torchvision.transforms import functional as TF\n",
    "from torch.utils.data import Dataset, DataLoader\n",
    "from PIL import Image"
   ]
  },
  {
   "cell_type": "markdown",
   "id": "71051c67",
   "metadata": {
    "papermill": {
     "duration": 0.002072,
     "end_time": "2024-11-15T08:12:08.647135",
     "exception": false,
     "start_time": "2024-11-15T08:12:08.645063",
     "status": "completed"
    },
    "tags": []
   },
   "source": [
    "* [R-CNN con backbone AlexNet](https://medium.com/@fractal.ai/guide-to-build-faster-rcnn-in-pytorch-42d47cb0ecd3)\n",
    "* [SPPNet con backbone ZF-5](https://arxiv.org/pdf/1406.4729)\n",
    "* [Faster R-CNN con backbone VGG16](https://medium.com/@fractal.ai/guide-to-build-faster-rcnn-in-pytorch-42d47cb0ecd3)"
   ]
  },
  {
   "cell_type": "code",
   "execution_count": 2,
   "id": "d49a88bf",
   "metadata": {
    "_cell_guid": "b1076dfc-b9ad-4769-8c92-a6c4dae69d19",
    "_uuid": "8f2839f25d086af736a60e9eeb907d3b93b6e0e5",
    "execution": {
     "iopub.execute_input": "2024-11-15T08:12:08.653377Z",
     "iopub.status.busy": "2024-11-15T08:12:08.652769Z",
     "iopub.status.idle": "2024-11-15T08:12:08.660179Z",
     "shell.execute_reply": "2024-11-15T08:12:08.658969Z"
    },
    "papermill": {
     "duration": 0.013756,
     "end_time": "2024-11-15T08:12:08.663016",
     "exception": false,
     "start_time": "2024-11-15T08:12:08.649260",
     "status": "completed"
    },
    "tags": []
   },
   "outputs": [],
   "source": [
    "root = '/kaggle/input/png'\n",
    "\n",
    "img_train_dir = os.path.join(root, 'train')\n",
    "gts_train_dir = os.path.join(root, 'train_labels')\n",
    "\n",
    "img_valid_dir = os.path.join(root, 'val')\n",
    "gts_valid_dir = os.path.join(root, 'val_labels')\n",
    "\n",
    "img_test_dir = os.path.join(root, 'test')\n",
    "gts_test_dir = os.path.join(root, 'test_labels')"
   ]
  }
 ],
 "metadata": {
  "kaggle": {
   "accelerator": "none",
   "dataSources": [
    {
     "datasetId": 1561333,
     "sourceId": 2571636,
     "sourceType": "datasetVersion"
    }
   ],
   "dockerImageVersionId": 30786,
   "isGpuEnabled": false,
   "isInternetEnabled": true,
   "language": "python",
   "sourceType": "notebook"
  },
  "kernelspec": {
   "display_name": "Python 3",
   "language": "python",
   "name": "python3"
  },
  "language_info": {
   "codemirror_mode": {
    "name": "ipython",
    "version": 3
   },
   "file_extension": ".py",
   "mimetype": "text/x-python",
   "name": "python",
   "nbconvert_exporter": "python",
   "pygments_lexer": "ipython3",
   "version": "3.10.14"
  },
  "papermill": {
   "default_parameters": {},
   "duration": 10.612177,
   "end_time": "2024-11-15T08:12:09.890331",
   "environment_variables": {},
   "exception": null,
   "input_path": "__notebook__.ipynb",
   "output_path": "__notebook__.ipynb",
   "parameters": {},
   "start_time": "2024-11-15T08:11:59.278154",
   "version": "2.6.0"
  }
 },
 "nbformat": 4,
 "nbformat_minor": 5
}
