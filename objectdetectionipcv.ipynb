{
 "cells": [
  {
   "cell_type": "code",
   "execution_count": 1,
   "id": "086c2e5b",
   "metadata": {
    "execution": {
     "iopub.execute_input": "2024-11-14T19:17:53.005487Z",
     "iopub.status.busy": "2024-11-14T19:17:53.005013Z",
     "iopub.status.idle": "2024-11-14T19:17:59.315580Z",
     "shell.execute_reply": "2024-11-14T19:17:59.313828Z"
    },
    "papermill": {
     "duration": 6.319991,
     "end_time": "2024-11-14T19:17:59.320558",
     "exception": false,
     "start_time": "2024-11-14T19:17:53.000567",
     "status": "completed"
    },
    "tags": []
   },
   "outputs": [],
   "source": [
    "import os\n",
    "import numpy as np\n",
    "import random\n",
    "\n",
    "import torch\n",
    "import torch.nn as nn\n",
    "import torch.nn.functional as F\n",
    "\n",
    "import matplotlib.pyplot as plt\n",
    "import imageio.v3 as imageio\n",
    "\n",
    "import torchvision\n",
    "from torchvision import transforms as T\n",
    "from torchvision.transforms import functional as TF\n",
    "from torch.utils.data import Dataset, DataLoader\n",
    "from PIL import Image"
   ]
  },
  {
   "cell_type": "code",
   "execution_count": 2,
   "id": "7c23c9e8",
   "metadata": {
    "_cell_guid": "b1076dfc-b9ad-4769-8c92-a6c4dae69d19",
    "_uuid": "8f2839f25d086af736a60e9eeb907d3b93b6e0e5",
    "execution": {
     "iopub.execute_input": "2024-11-14T19:17:59.328711Z",
     "iopub.status.busy": "2024-11-14T19:17:59.328116Z",
     "iopub.status.idle": "2024-11-14T19:17:59.335628Z",
     "shell.execute_reply": "2024-11-14T19:17:59.334408Z"
    },
    "papermill": {
     "duration": 0.015352,
     "end_time": "2024-11-14T19:17:59.339155",
     "exception": false,
     "start_time": "2024-11-14T19:17:59.323803",
     "status": "completed"
    },
    "tags": []
   },
   "outputs": [],
   "source": [
    "root = '/kaggle/input/png'\n",
    "\n",
    "img_train_dir = os.path.join(root, 'train')\n",
    "gts_train_dir = os.path.join(root, 'train_labels')\n",
    "\n",
    "img_valid_dir = os.path.join(root, 'val')\n",
    "gts_valid_dir = os.path.join(root, 'val_labels')\n",
    "\n",
    "img_test_dir = os.path.join(root, 'test')\n",
    "gts_test_dir = os.path.join(root, 'test_labels')"
   ]
  }
 ],
 "metadata": {
  "kaggle": {
   "accelerator": "none",
   "dataSources": [
    {
     "datasetId": 1561333,
     "sourceId": 2571636,
     "sourceType": "datasetVersion"
    }
   ],
   "isGpuEnabled": false,
   "isInternetEnabled": true,
   "language": "python",
   "sourceType": "notebook"
  },
  "kernelspec": {
   "display_name": "Python 3",
   "language": "python",
   "name": "python3"
  },
  "language_info": {
   "codemirror_mode": {
    "name": "ipython",
    "version": 3
   },
   "file_extension": ".py",
   "mimetype": "text/x-python",
   "name": "python",
   "nbconvert_exporter": "python",
   "pygments_lexer": "ipython3",
   "version": "3.10.14"
  },
  "papermill": {
   "default_parameters": {},
   "duration": 10.934087,
   "end_time": "2024-11-14T19:18:00.566073",
   "environment_variables": {},
   "exception": null,
   "input_path": "__notebook__.ipynb",
   "output_path": "__notebook__.ipynb",
   "parameters": {},
   "start_time": "2024-11-14T19:17:49.631986",
   "version": "2.6.0"
  }
 },
 "nbformat": 4,
 "nbformat_minor": 5
}
